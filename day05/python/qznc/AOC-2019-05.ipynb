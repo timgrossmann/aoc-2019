{
 "cells": [
  {
   "cell_type": "markdown",
   "metadata": {},
   "source": [
    "# Day 5: Sunny with a Chance of Asteroids"
   ]
  },
  {
   "cell_type": "code",
   "execution_count": 102,
   "metadata": {},
   "outputs": [],
   "source": [
    "def assert_eq(x,y):\n",
    "    if x == y: return\n",
    "    print(x,\"!=\",y)\n",
    "    assert(x == y)\n",
    "\n",
    "def read(x, prog, mode=0):\n",
    "    if mode == 0: # position mode\n",
    "        i = prog[x]\n",
    "        assert 0 <= i, i\n",
    "        assert len(prog) > i, (i, prog)\n",
    "        #print(\"RRR\", i, prog)\n",
    "        return prog[i]\n",
    "    elif mode == 1: # immediate mode\n",
    "        assert len(prog) > x, (x, prog)\n",
    "        return prog[x]\n",
    "    else: assert(False)\n",
    "assert_eq(read(1, [4,3,2,1], mode=0), 1)\n",
    "assert_eq(read(2, [4,3,2,1], mode=0), 2)\n",
    "assert_eq(read(1, [4,3,2,1], mode=1), 3)\n",
    "\n",
    "def write(x, val, prog, mode=0):\n",
    "    if mode == 0: # position mode\n",
    "        i = prog[x]\n",
    "        assert i >= 0, i\n",
    "        assert len(prog) > i, (i, prog)\n",
    "        #print(\"write\", i, val)\n",
    "        prog[i] = val\n",
    "    elif mode == 1: # immediate mode\n",
    "        #print(\"write\", x, val)\n",
    "        prog[x] = val\n",
    "    else: assert(False)\n",
    "# testing\n",
    "prog = [5,4,3,2,1]\n",
    "write(1, 2, prog, mode=0)\n",
    "assert_eq(prog[4], 2)\n",
    "write(1, 2, prog, mode=1)\n",
    "assert_eq(prog[1], 2)"
   ]
  },
  {
   "cell_type": "code",
   "execution_count": 103,
   "metadata": {},
   "outputs": [
    {
     "name": "stdout",
     "output_type": "stream",
     "text": [
      "output val= 42\n"
     ]
    }
   ],
   "source": [
    "def op_parse(num):\n",
    "    op = num % 100\n",
    "    m = num // 100\n",
    "    modes = [0,0,0]\n",
    "    modes[0] = m % 10\n",
    "    m = m // 10\n",
    "    modes[1] = m % 10\n",
    "    m = m // 10\n",
    "    modes[2] = m % 10\n",
    "    return op, modes\n",
    "assert_eq((2, [1,0,1]), op_parse(10102))\n",
    "\n",
    "def exec(pos,prog,inputs,outputs):\n",
    "    op, modes = op_parse(prog[pos])\n",
    "    #print(\". pos=\", pos, \"op=\", op, modes, \"prog[pos..]=\", prog[pos:pos+4])\n",
    "    if op == 1: # add\n",
    "        x = read(pos+1, prog, modes[0])\n",
    "        y = read(pos+2, prog, modes[1])\n",
    "        write(pos+3, x+y, prog, modes[2])\n",
    "        return pos+4\n",
    "    elif op == 2: # multiply\n",
    "        x = read(pos+1, prog, modes[0])\n",
    "        y = read(pos+2, prog, modes[1])\n",
    "        write(pos+3, x*y, prog, modes[2])\n",
    "        return pos+4\n",
    "    elif op == 3: # input\n",
    "        write(pos+1, inputs.pop(0), prog, modes[2])\n",
    "        return pos+2\n",
    "    elif op == 4: # output\n",
    "        val = read(pos+1, prog, modes[2])\n",
    "        print(\"output val=\", val)\n",
    "        outputs.append(val)\n",
    "        return pos+2\n",
    "    else:\n",
    "        print(\"Error: op=%d at pos %d in:\" % (op, pos), prog)\n",
    "        assert(False)\n",
    "\n",
    "def run(prog, inputs=list(), outputs=list()):\n",
    "    prog = prog[:]\n",
    "    ip = 0\n",
    "    while prog[ip] != 99:\n",
    "        #print(\">>>\", ip, \"op=\", prog[ip])\n",
    "        ip = exec(ip,prog,inputs,outputs)\n",
    "    #print(prog)\n",
    "    return prog[0]\n",
    "\n",
    "assert(3500 == run([1,9,10,3,2,3,11,0,99,30,40,50]))\n",
    "assert(2 == run([1,0,0,0,99]))\n",
    "assert(2 == run([2,3,0,3,99]))\n",
    "assert(2 == run([2,4,4,5,99,0]))\n",
    "assert(30 == run([1,1,1,4,99,5,6,0,99]))\n",
    "assert(1101 == run([1101,100,-1,4,0]))\n",
    "\n",
    "outputs = list()\n",
    "run([3,0,4,0,99], inputs=[42], outputs=outputs)\n",
    "assert outputs == [42]"
   ]
  },
  {
   "cell_type": "code",
   "execution_count": 104,
   "metadata": {},
   "outputs": [
    {
     "name": "stdout",
     "output_type": "stream",
     "text": [
      "output val= 3\n",
      "output val= 0\n",
      "output val= 0\n",
      "output val= 0\n",
      "output val= 0\n",
      "output val= 0\n",
      "output val= 0\n",
      "output val= 0\n",
      "output val= 0\n",
      "output val= 9025675\n",
      "[3, 0, 0, 0, 0, 0, 0, 0, 0, 9025675]\n"
     ]
    }
   ],
   "source": [
    "REAL = [3,225,1,225,6,6,1100,1,238,225,104,0,1102,79,14,225,1101,17,42,225,2,74,69,224,1001,224,-5733,224,4,224,1002,223,8,223,101,4,224,224,1,223,224,223,1002,191,83,224,1001,224,-2407,224,4,224,102,8,223,223,101,2,224,224,1,223,224,223,1101,18,64,225,1102,63,22,225,1101,31,91,225,1001,65,26,224,101,-44,224,224,4,224,102,8,223,223,101,3,224,224,1,224,223,223,101,78,13,224,101,-157,224,224,4,224,1002,223,8,223,1001,224,3,224,1,224,223,223,102,87,187,224,101,-4698,224,224,4,224,102,8,223,223,1001,224,4,224,1,223,224,223,1102,79,85,224,101,-6715,224,224,4,224,1002,223,8,223,1001,224,2,224,1,224,223,223,1101,43,46,224,101,-89,224,224,4,224,1002,223,8,223,101,1,224,224,1,223,224,223,1101,54,12,225,1102,29,54,225,1,17,217,224,101,-37,224,224,4,224,102,8,223,223,1001,224,3,224,1,223,224,223,1102,20,53,225,4,223,99,0,0,0,677,0,0,0,0,0,0,0,0,0,0,0,1105,0,99999,1105,227,247,1105,1,99999,1005,227,99999,1005,0,256,1105,1,99999,1106,227,99999,1106,0,265,1105,1,99999,1006,0,99999,1006,227,274,1105,1,99999,1105,1,280,1105,1,99999,1,225,225,225,1101,294,0,0,105,1,0,1105,1,99999,1106,0,300,1105,1,99999,1,225,225,225,1101,314,0,0,106,0,0,1105,1,99999,107,226,226,224,1002,223,2,223,1006,224,329,101,1,223,223,1108,677,226,224,1002,223,2,223,1006,224,344,101,1,223,223,7,677,226,224,102,2,223,223,1006,224,359,101,1,223,223,108,226,226,224,1002,223,2,223,1005,224,374,101,1,223,223,8,226,677,224,1002,223,2,223,1006,224,389,101,1,223,223,1108,226,226,224,102,2,223,223,1006,224,404,101,1,223,223,1007,677,677,224,1002,223,2,223,1006,224,419,101,1,223,223,8,677,677,224,1002,223,2,223,1005,224,434,1001,223,1,223,1008,226,226,224,102,2,223,223,1005,224,449,1001,223,1,223,1008,226,677,224,102,2,223,223,1006,224,464,101,1,223,223,1107,677,677,224,102,2,223,223,1006,224,479,101,1,223,223,107,677,677,224,1002,223,2,223,1005,224,494,1001,223,1,223,1107,226,677,224,1002,223,2,223,1005,224,509,101,1,223,223,1108,226,677,224,102,2,223,223,1006,224,524,101,1,223,223,7,226,226,224,1002,223,2,223,1005,224,539,101,1,223,223,108,677,677,224,1002,223,2,223,1005,224,554,101,1,223,223,8,677,226,224,1002,223,2,223,1005,224,569,1001,223,1,223,1008,677,677,224,102,2,223,223,1006,224,584,101,1,223,223,107,226,677,224,102,2,223,223,1005,224,599,1001,223,1,223,7,226,677,224,102,2,223,223,1005,224,614,101,1,223,223,1007,226,226,224,1002,223,2,223,1005,224,629,101,1,223,223,1107,677,226,224,1002,223,2,223,1006,224,644,101,1,223,223,108,226,677,224,102,2,223,223,1006,224,659,101,1,223,223,1007,677,226,224,102,2,223,223,1006,224,674,101,1,223,223,4,223,99,226]\n",
    "outputs = list()\n",
    "run(REAL, [1], outputs)\n",
    "print(outputs)"
   ]
  },
  {
   "cell_type": "markdown",
   "metadata": {},
   "source": [
    "# Part 2"
   ]
  },
  {
   "cell_type": "code",
   "execution_count": 105,
   "metadata": {},
   "outputs": [
    {
     "name": "stdout",
     "output_type": "stream",
     "text": [
      "output val= 11981754\n",
      "[11981754]\n"
     ]
    }
   ],
   "source": [
    "def exec(pos,prog,inputs,outputs):\n",
    "    op, modes = op_parse(prog[pos])\n",
    "    #print(\". pos=\", pos, \"op=\", op, modes, \"prog[pos..]=\", prog[pos:pos+4])\n",
    "    if op == 1: # add\n",
    "        x = read(pos+1, prog, modes[0])\n",
    "        y = read(pos+2, prog, modes[1])\n",
    "        write(pos+3, x+y, prog, modes[2])\n",
    "        return pos+4\n",
    "    elif op == 2: # multiply\n",
    "        x = read(pos+1, prog, modes[0])\n",
    "        y = read(pos+2, prog, modes[1])\n",
    "        write(pos+3, x*y, prog, modes[2])\n",
    "        return pos+4\n",
    "    elif op == 3: # input\n",
    "        write(pos+1, inputs.pop(0), prog, modes[2])\n",
    "        return pos+2\n",
    "    elif op == 4: # output\n",
    "        val = read(pos+1, prog, modes[2])\n",
    "        print(\"output val=\", val)\n",
    "        outputs.append(val)\n",
    "        return pos+2\n",
    "    elif op == 5: # jump-if-true\n",
    "        x = read(pos+1, prog, modes[0])\n",
    "        if x == 0:\n",
    "            return pos+3\n",
    "        y = read(pos+2, prog, modes[1])\n",
    "        return y\n",
    "    elif op == 6: # jump-if-false\n",
    "        x = read(pos+1, prog, modes[0])\n",
    "        if x != 0:\n",
    "            return pos+3\n",
    "        y = read(pos+2, prog, modes[1])\n",
    "        return y\n",
    "    elif op == 7: # less-than\n",
    "        x = read(pos+1, prog, modes[0])\n",
    "        y = read(pos+2, prog, modes[1])\n",
    "        write(pos+3, x<y, prog, modes[2])\n",
    "        return pos+4\n",
    "    elif op == 8: # equals\n",
    "        x = read(pos+1, prog, modes[0])\n",
    "        y = read(pos+2, prog, modes[1])\n",
    "        write(pos+3, x==y, prog, modes[2])\n",
    "        return pos+4\n",
    "    else:\n",
    "        print(\"Error: op=%d at pos %d in:\" % (op, pos), prog)\n",
    "        assert(False)\n",
    "outputs = list()\n",
    "run(REAL, [5], outputs)\n",
    "print(outputs)"
   ]
  }
 ],
 "metadata": {
  "kernelspec": {
   "display_name": "Python 3",
   "language": "python",
   "name": "python3"
  },
  "language_info": {
   "codemirror_mode": {
    "name": "ipython",
    "version": 3
   },
   "file_extension": ".py",
   "mimetype": "text/x-python",
   "name": "python",
   "nbconvert_exporter": "python",
   "pygments_lexer": "ipython3",
   "version": "3.6.9"
  }
 },
 "nbformat": 4,
 "nbformat_minor": 4
}
