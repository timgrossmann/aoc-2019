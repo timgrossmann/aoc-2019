{
 "cells": [
  {
   "cell_type": "markdown",
   "metadata": {},
   "source": [
    "# Day 7: Amplification Circuit"
   ]
  },
  {
   "cell_type": "code",
   "execution_count": 19,
   "metadata": {},
   "outputs": [],
   "source": [
    "# Copy from day 5\n",
    "def read(x, prog, mode=0):\n",
    "    if mode == 0: # position mode\n",
    "        i = prog[x]\n",
    "        assert 0 <= i, i\n",
    "        assert len(prog) > i, (i, prog)\n",
    "        #print(\"RRR\", i, prog)\n",
    "        return prog[i]\n",
    "    elif mode == 1: # immediate mode\n",
    "        assert len(prog) > x, (x, prog)\n",
    "        return prog[x]\n",
    "    else: assert(False)\n",
    "def write(x, val, prog, mode=0):\n",
    "    if mode == 0: # position mode\n",
    "        i = prog[x]\n",
    "        assert i >= 0, i\n",
    "        assert len(prog) > i, (i, prog)\n",
    "        #print(\"write\", i, val)\n",
    "        prog[i] = val\n",
    "    elif mode == 1: # immediate mode\n",
    "        #print(\"write\", x, val)\n",
    "        prog[x] = val\n",
    "    else: assert(False)\n",
    "def op_parse(num):\n",
    "    op = num % 100\n",
    "    m = num // 100\n",
    "    modes = [0,0,0]\n",
    "    modes[0] = m % 10\n",
    "    m = m // 10\n",
    "    modes[1] = m % 10\n",
    "    m = m // 10\n",
    "    modes[2] = m % 10\n",
    "    return op, modes\n",
    "def exec(pos,prog,inputs,outputs):\n",
    "    op, modes = op_parse(prog[pos])\n",
    "    #print(\". pos=\", pos, \"op=\", op, modes, \"prog[pos..]=\", prog[pos:pos+4])\n",
    "    if op == 1: # add\n",
    "        x = read(pos+1, prog, modes[0])\n",
    "        y = read(pos+2, prog, modes[1])\n",
    "        write(pos+3, x+y, prog, modes[2])\n",
    "        return pos+4\n",
    "    elif op == 2: # multiply\n",
    "        x = read(pos+1, prog, modes[0])\n",
    "        y = read(pos+2, prog, modes[1])\n",
    "        write(pos+3, x*y, prog, modes[2])\n",
    "        return pos+4\n",
    "    elif op == 3: # input\n",
    "        write(pos+1, inputs.pop(0), prog, modes[2])\n",
    "        return pos+2\n",
    "    elif op == 4: # output\n",
    "        val = read(pos+1, prog, modes[2])\n",
    "        #print(\"output val=\", val)\n",
    "        outputs.append(val)\n",
    "        return pos+2\n",
    "    elif op == 5: # jump-if-true\n",
    "        x = read(pos+1, prog, modes[0])\n",
    "        if x == 0:\n",
    "            return pos+3\n",
    "        y = read(pos+2, prog, modes[1])\n",
    "        return y\n",
    "    elif op == 6: # jump-if-false\n",
    "        x = read(pos+1, prog, modes[0])\n",
    "        if x != 0:\n",
    "            return pos+3\n",
    "        y = read(pos+2, prog, modes[1])\n",
    "        return y\n",
    "    elif op == 7: # less-than\n",
    "        x = read(pos+1, prog, modes[0])\n",
    "        y = read(pos+2, prog, modes[1])\n",
    "        write(pos+3, x<y, prog, modes[2])\n",
    "        return pos+4\n",
    "    elif op == 8: # equals\n",
    "        x = read(pos+1, prog, modes[0])\n",
    "        y = read(pos+2, prog, modes[1])\n",
    "        write(pos+3, x==y, prog, modes[2])\n",
    "        return pos+4\n",
    "    else:\n",
    "        print(\"Error: op=%d at pos %d in:\" % (op, pos), prog)\n",
    "        assert(False)\n",
    "\n",
    "def run(prog, inputs=list(), outputs=list()):\n",
    "    prog = prog[:]\n",
    "    ip = 0\n",
    "    while prog[ip] != 99:\n",
    "        #print(\">>>\", ip, \"op=\", prog[ip])\n",
    "        ip = exec(ip,prog,inputs,outputs)\n",
    "    #print(prog)\n",
    "    return prog[0]"
   ]
  },
  {
   "cell_type": "code",
   "execution_count": 84,
   "metadata": {},
   "outputs": [
    {
     "name": "stdout",
     "output_type": "stream",
     "text": [
      "Ran 4 0 -> [4]\n",
      "Ran 3 4 -> [43]\n",
      "Ran 2 43 -> [432]\n",
      "Ran 1 432 -> [4321]\n",
      "Ran 0 4321 -> [43210]\n",
      "Ran 0 0 -> [5]\n",
      "Ran 1 5 -> [54]\n",
      "Ran 2 54 -> [543]\n",
      "Ran 3 543 -> [5432]\n",
      "Ran 4 5432 -> [54321]\n",
      "Ran 1 0 -> [6]\n",
      "Ran 0 6 -> [65]\n",
      "Ran 4 65 -> [652]\n",
      "Ran 3 652 -> [6521]\n",
      "Ran 2 6521 -> [65210]\n"
     ]
    }
   ],
   "source": [
    "ExampleA = \"3,15,3,16,1002,16,10,16,1,16,15,15,4,15,99,0,0\"\n",
    "ExampleB = \"3,23,3,24,1002,24,10,24,1002,23,-1,23,101,5,23,23,1,24,23,23,4,23,99,0,0\"\n",
    "ExampleC = \"3,31,3,32,1002,32,10,32,1001,31,-2,31,1007,31,0,33,1002,33,7,33,1,33,31,31,1,32,31,31,4,31,99,0,0,0\"\n",
    "\n",
    "def assert_eq(x,y):\n",
    "    if x == y: return\n",
    "    print(x,\"!=\",y)\n",
    "    assert(x == y)\n",
    "    \n",
    "def amplify(prog,phases):\n",
    "    prog = [int(x) for x in prog.split(',')]\n",
    "    val = 0\n",
    "    for p in phases:\n",
    "        inputs = [p, val]\n",
    "        outputs = list()\n",
    "        run(prog, inputs, outputs)\n",
    "        #print(\"Ran\", p, val, \"->\", outputs)\n",
    "        val = outputs[0]\n",
    "    return val\n",
    "assert_eq(43210, amplify(ExampleA, [4,3,2,1,0]))\n",
    "assert_eq(54321, amplify(ExampleB, [0,1,2,3,4]))\n",
    "assert_eq(65210, amplify(ExampleC, [1,0,4,3,2]))"
   ]
  },
  {
   "cell_type": "code",
   "execution_count": 13,
   "metadata": {},
   "outputs": [
    {
     "name": "stdout",
     "output_type": "stream",
     "text": [
      "output val= 30\n",
      "output val= 132\n",
      "output val= 136\n",
      "output val= 1420\n",
      "output val= 12789\n",
      "12789\n"
     ]
    }
   ],
   "source": [
    "REAL = \"3,8,1001,8,10,8,105,1,0,0,21,46,67,76,97,118,199,280,361,442,99999,3,9,1002,9,3,9,101,4,9,9,102,3,9,9,1001,9,3,9,1002,9,2,9,4,9,99,3,9,102,2,9,9,101,5,9,9,1002,9,2,9,101,2,9,9,4,9,99,3,9,101,4,9,9,4,9,99,3,9,1001,9,4,9,102,2,9,9,1001,9,4,9,1002,9,5,9,4,9,99,3,9,102,3,9,9,1001,9,2,9,1002,9,3,9,1001,9,3,9,4,9,99,3,9,101,1,9,9,4,9,3,9,1001,9,2,9,4,9,3,9,1001,9,1,9,4,9,3,9,1001,9,1,9,4,9,3,9,101,2,9,9,4,9,3,9,102,2,9,9,4,9,3,9,1002,9,2,9,4,9,3,9,1002,9,2,9,4,9,3,9,1001,9,2,9,4,9,3,9,101,1,9,9,4,9,99,3,9,102,2,9,9,4,9,3,9,101,2,9,9,4,9,3,9,102,2,9,9,4,9,3,9,1002,9,2,9,4,9,3,9,102,2,9,9,4,9,3,9,1001,9,2,9,4,9,3,9,1001,9,1,9,4,9,3,9,102,2,9,9,4,9,3,9,101,1,9,9,4,9,3,9,101,2,9,9,4,9,99,3,9,1002,9,2,9,4,9,3,9,1001,9,1,9,4,9,3,9,101,2,9,9,4,9,3,9,1002,9,2,9,4,9,3,9,102,2,9,9,4,9,3,9,1001,9,1,9,4,9,3,9,1002,9,2,9,4,9,3,9,101,1,9,9,4,9,3,9,1002,9,2,9,4,9,3,9,1001,9,1,9,4,9,99,3,9,1001,9,2,9,4,9,3,9,1002,9,2,9,4,9,3,9,1002,9,2,9,4,9,3,9,101,2,9,9,4,9,3,9,1001,9,1,9,4,9,3,9,101,1,9,9,4,9,3,9,1001,9,2,9,4,9,3,9,1001,9,1,9,4,9,3,9,1002,9,2,9,4,9,3,9,1001,9,1,9,4,9,99,3,9,1002,9,2,9,4,9,3,9,101,2,9,9,4,9,3,9,1002,9,2,9,4,9,3,9,101,2,9,9,4,9,3,9,1001,9,2,9,4,9,3,9,101,1,9,9,4,9,3,9,102,2,9,9,4,9,3,9,102,2,9,9,4,9,3,9,1001,9,2,9,4,9,3,9,1002,9,2,9,4,9,99\"\n",
    "print(amplify(REAL, [0,1,2,3,4]))"
   ]
  },
  {
   "cell_type": "code",
   "execution_count": 22,
   "metadata": {},
   "outputs": [
    {
     "name": "stdout",
     "output_type": "stream",
     "text": [
      "67023\n"
     ]
    }
   ],
   "source": [
    "from itertools import permutations\n",
    "max = 0\n",
    "for phases in permutations((0,1,2,3,4)):\n",
    "    out = amplify(REAL, phases)\n",
    "    if out > max:\n",
    "        max = out\n",
    "print(max)"
   ]
  },
  {
   "cell_type": "markdown",
   "metadata": {},
   "source": [
    "# Part 2\n",
    "\n",
    "At this point I need to redesign my IntCodeVM again, because now the program state must be maintained for the next execution.\n",
    "Even for the first part, it would have made sense to externalize it to a library\n",
    "and I expect more IntCode puzzles.\n",
    "Thus I created the [IntCodeVM.py](IntCodeVM.py) module and put it there for easier reuse."
   ]
  },
  {
   "cell_type": "code",
   "execution_count": 99,
   "metadata": {},
   "outputs": [],
   "source": [
    "import IntCodeVM\n",
    "I = IntCodeVM.IntCodeVM\n",
    "\n",
    "vm = I(ExampleA)"
   ]
  },
  {
   "cell_type": "code",
   "execution_count": 100,
   "metadata": {},
   "outputs": [],
   "source": [
    "from importlib import reload\n",
    "reload(IntCodeVM)\n",
    "\n",
    "def amplify(prog, phases):\n",
    "    prog = [int(x) for x in prog.split(',')]\n",
    "    vms = [I(prog) for x in range(5)]\n",
    "    vms[0].inputs = [phases[0], 0]\n",
    "    for i in range(4):\n",
    "        vms[i].outputs = vms[i+1].inputs = list((phases[i+1],))\n",
    "    vms[4].outputs = list()\n",
    "    for vm in vms:\n",
    "        #print(\"B:\", vm.inputs, vm.outputs)\n",
    "        b = len(vm.outputs)\n",
    "        while len(vm.outputs) == b:\n",
    "            vm.step()\n",
    "        #print(\"A:\", vm.inputs, vm.outputs)\n",
    "    return vms[-1].outputs[-1]\n",
    "assert_eq(43210, amplify(ExampleA, [4,3,2,1,0]))\n",
    "assert_eq(54321, amplify(ExampleB, [0,1,2,3,4]))\n",
    "assert_eq(65210, amplify(ExampleC, [1,0,4,3,2]))"
   ]
  },
  {
   "cell_type": "markdown",
   "metadata": {},
   "source": [
    "Now the real part 2 stuff"
   ]
  },
  {
   "cell_type": "code",
   "execution_count": 104,
   "metadata": {},
   "outputs": [],
   "source": [
    "Example2A = \"3,26,1001,26,-4,26,3,27,1002,27,2,27,1,27,26,27,4,27,1001,28,-1,28,1005,28,6,99,0,0,5\"\n",
    "Example2B = \"3,52,1001,52,-5,52,3,53,1,52,56,54,1007,54,5,55,1005,55,26,1001,54,-5,54,1105,1,12,1,53,54,53,1008,54,0,55,1001,55,1,55,2,53,55,53,4,53,1001,56,-1,56,1005,56,6,99,0,0,0,0,10\"\n",
    "\n",
    "def amplify_feedback(prog, phases):\n",
    "    prog = [int(x) for x in prog.split(',')]\n",
    "    vms = [I(prog) for x in range(5)]\n",
    "    for i in range(5):\n",
    "        vms[i].outputs = vms[(i+1) % 5].inputs = list((phases[(i+1) % 5],))\n",
    "    vms[0].inputs.append(0) # initial value\n",
    "    while True:\n",
    "        for i, vm in enumerate(vms):\n",
    "            #print(i, \"B:\", vm.inputs, vm.outputs)\n",
    "            b = len(vm.outputs)\n",
    "            while len(vm.outputs) == b and vm.prog[vm.ip] != 99:\n",
    "                vm.step()\n",
    "            #print(i, \"A:\", vm.inputs, vm.outputs)\n",
    "        if vms[0].prog[vms[0].ip] == 99:\n",
    "            break\n",
    "    return vms[-1].outputs[0]\n",
    "\n",
    "assert_eq(139629729, amplify_feedback(Example2A, [9,8,7,6,5]))\n",
    "assert_eq(18216, amplify_feedback(Example2B, [9,7,8,5,6]))"
   ]
  },
  {
   "cell_type": "code",
   "execution_count": 105,
   "metadata": {},
   "outputs": [
    {
     "name": "stdout",
     "output_type": "stream",
     "text": [
      "7818398\n"
     ]
    }
   ],
   "source": [
    "from itertools import permutations\n",
    "max = 0\n",
    "for phases in permutations((9,8,7,6,5)):\n",
    "    out = amplify_feedback(REAL, phases)\n",
    "    if out > max:\n",
    "        max = out\n",
    "print(max)"
   ]
  }
 ],
 "metadata": {
  "kernelspec": {
   "display_name": "Python 3",
   "language": "python",
   "name": "python3"
  },
  "language_info": {
   "codemirror_mode": {
    "name": "ipython",
    "version": 3
   },
   "file_extension": ".py",
   "mimetype": "text/x-python",
   "name": "python",
   "nbconvert_exporter": "python",
   "pygments_lexer": "ipython3",
   "version": "3.6.9"
  }
 },
 "nbformat": 4,
 "nbformat_minor": 4
}
