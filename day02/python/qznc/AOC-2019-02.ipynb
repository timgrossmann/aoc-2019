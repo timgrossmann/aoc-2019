{
 "cells": [
  {
   "cell_type": "markdown",
   "metadata": {},
   "source": [
    "# Day 2: 1202 Program Alarm\n",
    "\n",
    "https://adventofcode.com/2019/day/2\n"
   ]
  },
  {
   "cell_type": "code",
   "execution_count": 34,
   "metadata": {},
   "outputs": [],
   "source": [
    "example = [ 1,9,10,3,2,3,11,0,99,30,40,50 ]"
   ]
  },
  {
   "cell_type": "code",
   "execution_count": 35,
   "metadata": {},
   "outputs": [
    {
     "name": "stdout",
     "output_type": "stream",
     "text": [
      "3500\n",
      "2\n",
      "2\n",
      "2\n",
      "30\n"
     ]
    }
   ],
   "source": [
    "def exec(pos,prog):\n",
    "    op = prog[pos]\n",
    "    #print(\".\", pos, prog)\n",
    "    if op == 1:\n",
    "        prog[prog[pos+3]] = prog[prog[pos+1]] + prog[prog[pos+2]]\n",
    "    elif op == 2:\n",
    "        prog[prog[pos+3]] = prog[prog[pos+1]] * prog[prog[pos+2]]\n",
    "\n",
    "def run(prog):\n",
    "    prog = prog[:]\n",
    "    ip = 0\n",
    "    while prog[ip] != 99:\n",
    "        exec(ip,prog)\n",
    "        ip += 4\n",
    "    #print(prog)\n",
    "    return prog[0]\n",
    "print(run(example))\n",
    "print(run([1,0,0,0,99]))\n",
    "print(run([2,3,0,3,99]))\n",
    "print(run([2,4,4,5,99,0]))\n",
    "print(run([1,1,1,4,99,5,6,0,99]))"
   ]
  },
  {
   "cell_type": "code",
   "execution_count": 36,
   "metadata": {},
   "outputs": [
    {
     "data": {
      "text/plain": [
       "3500"
      ]
     },
     "execution_count": 36,
     "metadata": {},
     "output_type": "execute_result"
    }
   ],
   "source": [
    "run(example)"
   ]
  },
  {
   "cell_type": "code",
   "execution_count": 37,
   "metadata": {},
   "outputs": [
    {
     "data": {
      "text/plain": [
       "2782414"
      ]
     },
     "execution_count": 37,
     "metadata": {},
     "output_type": "execute_result"
    }
   ],
   "source": [
    "real = [1,12,2,3,1,1,2,3,1,3,4,3,1,5,0,3,2,10,1,19,1,6,19,23,1,23,13,27,2,6,27,31,1,5,31,35,2,10,35,39,1,6,39,43,1,13,43,47,2,47,6,51,1,51,5,55,1,55,6,59,2,59,10,63,1,63,6,67,2,67,10,71,1,71,9,75,2,75,10,79,1,79,5,83,2,10,83,87,1,87,6,91,2,9,91,95,1,95,5,99,1,5,99,103,1,103,10,107,1,9,107,111,1,6,111,115,1,115,5,119,1,10,119,123,2,6,123,127,2,127,6,131,1,131,2,135,1,10,135,0,99,2,0,14,0\n",
    "]\n",
    "run(real)"
   ]
  },
  {
   "cell_type": "markdown",
   "metadata": {},
   "source": [
    "# Part 2\n",
    "\n",
    "In part 1, I replaced position 1 and 2 manually. These are now called \"inputs\" and should be supplied separately, so redefine `run`."
   ]
  },
  {
   "cell_type": "code",
   "execution_count": 38,
   "metadata": {},
   "outputs": [],
   "source": [
    "def run(prog, a, b):\n",
    "    prog = prog[:]\n",
    "    prog[1] = a\n",
    "    prog[2] = b\n",
    "    ip = 0\n",
    "    while prog[ip] != 99:\n",
    "        exec(ip,prog)\n",
    "        ip += 4\n",
    "    #print(prog)\n",
    "    return prog[0]\n",
    "\n",
    "assert(run(real, 12, 2) == 2782414)"
   ]
  },
  {
   "cell_type": "code",
   "execution_count": 39,
   "metadata": {},
   "outputs": [
    {
     "name": "stdout",
     "output_type": "stream",
     "text": [
      "9820\n"
     ]
    }
   ],
   "source": [
    "def search_output():\n",
    "    for a in range(100):\n",
    "        for b in range(100):\n",
    "            if run(real, a, b) == 19690720:\n",
    "                return 100*a + b\n",
    "print(search_output())"
   ]
  }
 ],
 "metadata": {
  "kernelspec": {
   "display_name": "Python 3",
   "language": "python",
   "name": "python3"
  },
  "language_info": {
   "codemirror_mode": {
    "name": "ipython",
    "version": 3
   },
   "file_extension": ".py",
   "mimetype": "text/x-python",
   "name": "python",
   "nbconvert_exporter": "python",
   "pygments_lexer": "ipython3",
   "version": "3.6.9"
  }
 },
 "nbformat": 4,
 "nbformat_minor": 4
}
