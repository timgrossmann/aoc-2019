{
 "cells": [
  {
   "cell_type": "markdown",
   "metadata": {},
   "source": [
    "# Day 4: Secure Container"
   ]
  },
  {
   "cell_type": "code",
   "execution_count": 7,
   "metadata": {},
   "outputs": [],
   "source": [
    "CORRECT=(122345, 111123, 135677, 111111)\n",
    "INCORRECT=(223450, 123789)\n",
    "def test(f):\n",
    "    for n in CORRECT:\n",
    "        assert f(n), n\n",
    "    for n in INCORRECT:\n",
    "        assert not f(n), n"
   ]
  },
  {
   "cell_type": "code",
   "execution_count": 14,
   "metadata": {},
   "outputs": [],
   "source": [
    "def check(x):\n",
    "    digits = set()\n",
    "    prev_digit = 9\n",
    "    # check increasing digits\n",
    "    for i in range(6):\n",
    "        digit = x % 10\n",
    "        x = x // 10\n",
    "        if prev_digit < digit:\n",
    "            return False\n",
    "        prev_digit = digit\n",
    "        digits.add(digit)\n",
    "    return len(digits) <= 5\n",
    "test(check)"
   ]
  },
  {
   "cell_type": "code",
   "execution_count": 16,
   "metadata": {},
   "outputs": [
    {
     "data": {
      "text/plain": [
       "1675"
      ]
     },
     "execution_count": 16,
     "metadata": {},
     "output_type": "execute_result"
    }
   ],
   "source": [
    "def range_check(a,b):\n",
    "    count = 0\n",
    "    for x in range(a,b):\n",
    "        if check(x):\n",
    "            count += 1\n",
    "    return count\n",
    "range_check(172930,683082)"
   ]
  },
  {
   "cell_type": "markdown",
   "metadata": {},
   "source": [
    "# Part 2"
   ]
  },
  {
   "cell_type": "code",
   "execution_count": 18,
   "metadata": {},
   "outputs": [],
   "source": [
    "CORRECT=(112233,111122)\n",
    "INCORRECT=(123444,)"
   ]
  },
  {
   "cell_type": "code",
   "execution_count": 31,
   "metadata": {},
   "outputs": [
    {
     "data": {
      "text/plain": [
       "True"
      ]
     },
     "execution_count": 31,
     "metadata": {},
     "output_type": "execute_result"
    }
   ],
   "source": [
    "from itertools import groupby\n",
    "def check(x):\n",
    "    prev_d = '0'\n",
    "    dupl = False\n",
    "    for d, dd in groupby(str(x)):\n",
    "        if d < prev_d:\n",
    "            return False\n",
    "        if len(list(dd)) == 2:\n",
    "            dupl = True\n",
    "        prev_d = d\n",
    "    return dupl\n",
    "check(12334)"
   ]
  },
  {
   "cell_type": "code",
   "execution_count": 32,
   "metadata": {},
   "outputs": [
    {
     "data": {
      "text/plain": [
       "1142"
      ]
     },
     "execution_count": 32,
     "metadata": {},
     "output_type": "execute_result"
    }
   ],
   "source": [
    "range_check(172930,683082)"
   ]
  }
 ],
 "metadata": {
  "kernelspec": {
   "display_name": "Python 3",
   "language": "python",
   "name": "python3"
  },
  "language_info": {
   "codemirror_mode": {
    "name": "ipython",
    "version": 3
   },
   "file_extension": ".py",
   "mimetype": "text/x-python",
   "name": "python",
   "nbconvert_exporter": "python",
   "pygments_lexer": "ipython3",
   "version": "3.6.9"
  }
 },
 "nbformat": 4,
 "nbformat_minor": 4
}
