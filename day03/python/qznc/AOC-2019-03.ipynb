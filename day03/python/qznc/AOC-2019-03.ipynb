{
 "cells": [
  {
   "cell_type": "markdown",
   "metadata": {},
   "source": [
    "# Day 3: Crossed Wires"
   ]
  },
  {
   "cell_type": "code",
   "execution_count": 10,
   "metadata": {},
   "outputs": [
    {
     "data": {
      "text/plain": [
       "[[('R', 8), ('U', 5), ('L', 5), ('D', 3)],\n",
       " [('U', 7), ('R', 6), ('D', 4), ('L', 4)]]"
      ]
     },
     "execution_count": 10,
     "metadata": {},
     "output_type": "execute_result"
    }
   ],
   "source": [
    "def parse_step(string):\n",
    "    return string[0], int(string[1:])\n",
    "def parse(lines):\n",
    "    ret = list()\n",
    "    for line in lines.split(\"\\n\"):\n",
    "        if not line: continue\n",
    "        items = line.split(\",\")\n",
    "        ret.append([parse_step(x) for x in items])\n",
    "    return ret\n",
    "EXAMPLE = parse(\"\"\"\n",
    "R8,U5,L5,D3\n",
    "U7,R6,D4,L4\n",
    "\"\"\")\n",
    "REAL = parse(\"\"\"\n",
    "R1003,D430,L108,D570,R459,U7,L68,D232,L130,U93,R238,U951,L821,U723,L370,U873,L680,U749,R110,U17,R185,U484,R550,U356,L212,U350,L239,D208,R666,U70,L369,U448,R54,D402,R165,D375,L468,U886,L303,U779,L752,U664,L120,U643,R405,D288,L220,U727,L764,D615,R630,U688,R961,U499,L782,D852,L743,U443,R355,U856,L795,U235,L876,D511,L108,U637,R427,D338,L699,D911,L506,D607,L539,U977,R654,D634,L196,U944,R922,D774,R358,U828,L970,D386,R795,U602,R249,U793,L171,D217,L476,D123,L179,U820,R895,D239,R363,D629,L226,D811,R962,D848,R218,D581,R369,D872,L653,D281,R304,D302,R780,U636,L413,D712,L642,D886,R613,U736,L968,D82,R953,U408,L130,U654,R312,U74,L610,D798,R242,D586,L808,D664,L764,U455,R264,U384,L154,D484,R883,D276,L423,U11,L145,U156,L268,U46,R202,U641,R920,D483,R859,U94,L173,D796,R11,D328,R48,D161,L615,D396,R350,D48,R946,D233,R385,D294,R640,D301,R810,D824,L969,D469,R34,U995,R750,D827,R52,U606,R143,U868,L973,U863,L17,U995,L236,U994,R403,D312,R49,U143,L399,U821,R974,U119,R410,D233,R228,D326,R112,D512,L950,D103,L590,U80,R7,U441,L744,U643,L80,D631,L576,U680,R369,U741,L87,D748,R773,U145,R464,U546,R80,D251,L972,U414,L390,U148,L84,D481,L425,U293,L564,U880,R535,U703,R981,U944,R224,D366,R29,U517,R342,U686,L384,D650,R983,D287,L108,U713,L523,U695,R881,D126,R151,U153,R161,D791,L599,D936,L816,U387,R411,U637,L434,D22,L720,U579,L661,D644,L220,U325,R753,D392,L503,U617,R1,D956,L607,U602,L800,D749,L193,U215,L91,U733,L606,U510,L124,D550,R303,D835,R19,D326,R577,U265,L156,D924,L122,D186,R803,U3,R879\n",
    "L1003,U603,L675,U828,R671,U925,R466,D707,L39,U1,R686,U946,L438,U626,R714,D365,L336,D624,R673,U672,L729,D965,R824,D533,R513,D914,R829,U275,L424,U10,L244,U158,R779,D590,R116,U714,R662,D989,R869,D547,R817,U315,R439,D29,L599,D870,L645,U656,R845,U19,R960,U669,L632,D567,L340,U856,R955,D314,R452,D896,R574,D162,R240,U302,R668,U706,R394,D24,L422,U884,R804,U576,L802,U400,R405,U676,L344,D628,R672,U580,R710,U536,L712,U738,L266,D212,R552,D229,R265,U835,R152,U784,L478,D87,L783,D327,R728,U590,R408,D397,R363,D654,R501,D583,R445,U897,R888,D480,R455,U593,R906,D506,R985,D361,R361,D619,L462,D873,L248,D348,R540,D578,L274,D472,R254,U647,R54,U681,L33,U343,R913,U120,L64,D849,L953,U407,L64,U744,L482,U240,L82,U69,R480,D796,L137,U527,R428,U67,R123,U688,L985,D944,R583,D804,R331,U328,R906,U376,L966,U433,R863,D931,L315,D9,L77,D141,L738,D661,R742,D44,R383,U78,R106,D301,L186,U907,L304,U786,L256,U718,R861,D145,R694,D721,R607,D418,R358,U600,R228,D139,R476,D451,L49,U616,L491,U8,R371,D735,R669,U388,L905,D282,L430,U491,L775,U891,L831,U350,L247,D609,R489,U266,R468,D748,R134,U187,R882,D315,R344,D363,R349,U525,R831,U644,R207,D563,L1,D946,L559,U789,L187,U370,L284,D910,L394,D560,L705,U661,R272,U109,L12,D554,L670,D169,L375,D100,R382,D491,L53,D916,R152,U82,L236,U845,L860,U732,R327,D190,R888,U722,R770,U993,R509,D970,L225,D756,R444,D992,L746,D35,R329,D452,R728,U575,L325,U414,L709,D844,R692,D575,R132,D520,L506,D384,L581,U36,L336,U849,L944,U450,R138,D186,L613,U805,R32,U763,R210,U556,R125,D499,R729\n",
    "\"\"\")\n",
    "EXAMPLE"
   ]
  },
  {
   "cell_type": "code",
   "execution_count": 19,
   "metadata": {},
   "outputs": [
    {
     "data": {
      "text/plain": [
       "((4, 1), {(2, 1): 1, (3, 1): 1, (4, 1): 1})"
      ]
     },
     "execution_count": 19,
     "metadata": {},
     "output_type": "execute_result"
    }
   ],
   "source": [
    "vectors = {'R': (1,0), 'L': (-1,0), 'U': (0,1), 'D': (0,-1)}\n",
    "def draw_steps(pos, move):\n",
    "    ret = dict()\n",
    "    vector = vectors[move[0]]\n",
    "    distance = move[1]\n",
    "    for i in range(distance):\n",
    "        pos = (pos[0]+vector[0], pos[1]+vector[1])\n",
    "        ret[pos] = 1\n",
    "    return pos, ret\n",
    "draw_steps((1,1), ('R', 3))"
   ]
  },
  {
   "cell_type": "code",
   "execution_count": 23,
   "metadata": {},
   "outputs": [
    {
     "data": {
      "text/plain": [
       "{(1, 0): 1,\n",
       " (2, 0): 1,\n",
       " (3, 0): 1,\n",
       " (4, 0): 1,\n",
       " (5, 0): 1,\n",
       " (6, 0): 1,\n",
       " (7, 0): 1,\n",
       " (8, 0): 1,\n",
       " (8, 1): 1,\n",
       " (8, 2): 1,\n",
       " (8, 3): 1,\n",
       " (8, 4): 1,\n",
       " (8, 5): 1,\n",
       " (7, 5): 1,\n",
       " (6, 5): 1,\n",
       " (5, 5): 1,\n",
       " (4, 5): 1,\n",
       " (3, 5): 1,\n",
       " (3, 4): 1,\n",
       " (3, 3): 1,\n",
       " (3, 2): 1}"
      ]
     },
     "execution_count": 23,
     "metadata": {},
     "output_type": "execute_result"
    }
   ],
   "source": [
    "def draw_wire(pos, moves):\n",
    "    ret = dict()\n",
    "    pos = (0,0)\n",
    "    for m in moves:\n",
    "        pos, steps = draw_steps(pos, m)\n",
    "        ret.update(steps)\n",
    "    return ret\n",
    "draw_wire((0,0), [('R', 8), ('U', 5), ('L', 5), ('D', 3)])"
   ]
  },
  {
   "cell_type": "code",
   "execution_count": 27,
   "metadata": {},
   "outputs": [
    {
     "data": {
      "text/plain": [
       "{(3, 3), (6, 5)}"
      ]
     },
     "execution_count": 27,
     "metadata": {},
     "output_type": "execute_result"
    }
   ],
   "source": [
    "def crossings(wires):\n",
    "    board = set()\n",
    "    crossings = set()\n",
    "    central = (0,0)\n",
    "    for w in wires:\n",
    "        path = draw_wire(central,w)\n",
    "        for xy in path.keys():\n",
    "            if xy in board:\n",
    "                crossings.add(xy)\n",
    "            board.add(xy)\n",
    "    return crossings\n",
    "crossings(EXAMPLE)"
   ]
  },
  {
   "cell_type": "code",
   "execution_count": 29,
   "metadata": {},
   "outputs": [
    {
     "data": {
      "text/plain": [
       "6"
      ]
     },
     "execution_count": 29,
     "metadata": {},
     "output_type": "execute_result"
    }
   ],
   "source": [
    "def nearest_crossing(wires):\n",
    "    return min(abs(x)+abs(y) for (x,y) in crossings(wires))\n",
    "nearest_crossing(EXAMPLE)"
   ]
  },
  {
   "cell_type": "code",
   "execution_count": 31,
   "metadata": {},
   "outputs": [
    {
     "data": {
      "text/plain": [
       "1674"
      ]
     },
     "execution_count": 31,
     "metadata": {},
     "output_type": "execute_result"
    }
   ],
   "source": [
    "nearest_crossing(REAL)"
   ]
  },
  {
   "cell_type": "markdown",
   "metadata": {},
   "source": [
    "# Part 2"
   ]
  },
  {
   "cell_type": "code",
   "execution_count": 36,
   "metadata": {},
   "outputs": [
    {
     "data": {
      "text/plain": [
       "(5, (4, 1), {(2, 1): 3, (3, 1): 4, (4, 1): 5})"
      ]
     },
     "execution_count": 36,
     "metadata": {},
     "output_type": "execute_result"
    }
   ],
   "source": [
    "def draw_steps(start_dist, pos, move):\n",
    "    ret = dict()\n",
    "    vector = vectors[move[0]]\n",
    "    distance = move[1]\n",
    "    for i in range(distance):\n",
    "        pos = (pos[0]+vector[0], pos[1]+vector[1])\n",
    "        ret[pos] = start_dist+i+1\n",
    "    return start_dist+distance, pos, ret\n",
    "draw_steps(2, (1,1), ('R', 3))"
   ]
  },
  {
   "cell_type": "code",
   "execution_count": 38,
   "metadata": {},
   "outputs": [
    {
     "data": {
      "text/plain": [
       "{(1, 0): 1,\n",
       " (2, 0): 2,\n",
       " (3, 0): 3,\n",
       " (4, 0): 4,\n",
       " (5, 0): 5,\n",
       " (6, 0): 6,\n",
       " (7, 0): 7,\n",
       " (8, 0): 8,\n",
       " (8, 1): 9,\n",
       " (8, 2): 10,\n",
       " (8, 3): 11,\n",
       " (8, 4): 12,\n",
       " (8, 5): 13,\n",
       " (7, 5): 14,\n",
       " (6, 5): 15,\n",
       " (5, 5): 16,\n",
       " (4, 5): 17,\n",
       " (3, 5): 18,\n",
       " (3, 4): 19,\n",
       " (3, 3): 20,\n",
       " (3, 2): 21}"
      ]
     },
     "execution_count": 38,
     "metadata": {},
     "output_type": "execute_result"
    }
   ],
   "source": [
    "def draw_wire(pos, moves):\n",
    "    ret = dict()\n",
    "    pos = (0,0)\n",
    "    dist = 0\n",
    "    for m in moves:\n",
    "        dist, pos, steps = draw_steps(dist, pos, m)\n",
    "        ret.update(steps)\n",
    "    return ret\n",
    "draw_wire((0,0), [('R', 8), ('U', 5), ('L', 5), ('D', 3)])"
   ]
  },
  {
   "cell_type": "code",
   "execution_count": 41,
   "metadata": {},
   "outputs": [
    {
     "data": {
      "text/plain": [
       "{(6, 5): 30, (3, 3): 40}"
      ]
     },
     "execution_count": 41,
     "metadata": {},
     "output_type": "execute_result"
    }
   ],
   "source": [
    "def crossings(wires):\n",
    "    board = dict()\n",
    "    crossings = dict()\n",
    "    central = (0,0)\n",
    "    for w in wires:\n",
    "        path = draw_wire(central,w)\n",
    "        for xy,d in path.items():\n",
    "            if xy in board:\n",
    "                d2 = board[xy] + d\n",
    "                crossings[xy] = d2\n",
    "                board[xy] = d2\n",
    "            else:\n",
    "                board[xy] = d\n",
    "    return crossings\n",
    "crossings(EXAMPLE)"
   ]
  },
  {
   "cell_type": "code",
   "execution_count": 44,
   "metadata": {},
   "outputs": [
    {
     "data": {
      "text/plain": [
       "((6, 5), 30)"
      ]
     },
     "execution_count": 44,
     "metadata": {},
     "output_type": "execute_result"
    }
   ],
   "source": [
    "def shortest_crossing(wires):\n",
    "    min_d = 100000\n",
    "    best = (0,0)\n",
    "    for xy,d in crossings(wires).items():\n",
    "        if d < min_d:\n",
    "            min_d = d\n",
    "            best = xy\n",
    "    return best, min_d\n",
    "shortest_crossing(EXAMPLE)"
   ]
  },
  {
   "cell_type": "code",
   "execution_count": 45,
   "metadata": {},
   "outputs": [
    {
     "data": {
      "text/plain": [
       "((-477, 1650), 14012)"
      ]
     },
     "execution_count": 45,
     "metadata": {},
     "output_type": "execute_result"
    }
   ],
   "source": [
    "shortest_crossing(REAL)"
   ]
  }
 ],
 "metadata": {
  "kernelspec": {
   "display_name": "Python 3",
   "language": "python",
   "name": "python3"
  },
  "language_info": {
   "codemirror_mode": {
    "name": "ipython",
    "version": 3
   },
   "file_extension": ".py",
   "mimetype": "text/x-python",
   "name": "python",
   "nbconvert_exporter": "python",
   "pygments_lexer": "ipython3",
   "version": "3.6.9"
  }
 },
 "nbformat": 4,
 "nbformat_minor": 4
}
